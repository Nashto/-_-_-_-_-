{
 "cells": [
  {
   "cell_type": "markdown",
   "metadata": {
    "toc": true
   },
   "source": [
    "<h1>Содержание<span class=\"tocSkip\"></span></h1>\n",
    "<div class=\"toc\"><ul class=\"toc-item\"><li><span><a href=\"#Подготовка\" data-toc-modified-id=\"Подготовка-1\"><span class=\"toc-item-num\">1&nbsp;&nbsp;</span>Подготовка</a></span></li><li><span><a href=\"#Обучение\" data-toc-modified-id=\"Обучение-2\"><span class=\"toc-item-num\">2&nbsp;&nbsp;</span>Обучение</a></span></li><li><span><a href=\"#Выводы\" data-toc-modified-id=\"Выводы-3\"><span class=\"toc-item-num\">3&nbsp;&nbsp;</span>Выводы</a></span></li><li><span><a href=\"#Чек-лист-проверки\" data-toc-modified-id=\"Чек-лист-проверки-4\"><span class=\"toc-item-num\">4&nbsp;&nbsp;</span>Чек-лист проверки</a></span></li></ul></div>"
   ]
  },
  {
   "cell_type": "markdown",
   "id": "65d2712e",
   "metadata": {},
   "source": [
    "# Проект для «Токсик_комментс»"
   ]
  },
  {
   "cell_type": "markdown",
   "id": "66487cb5",
   "metadata": {},
   "source": [
    "Интернет-магазин запускает новый сервис. Теперь пользователи могут редактировать и дополнять описания товаров, как в вики-сообществах. То есть клиенты предлагают свои правки и комментируют изменения других. Магазину нужен инструмент, который будет искать токсичные комментарии и отправлять их на модерацию. \n",
    "\n",
    "Задание: обучить модель классифицировать комментарии на позитивные и негативные. В вашем распоряжении набор данных с разметкой о токсичности правок.\n",
    "\n",
    "Необходимо построить модель со значением метрики качества *F1* не меньше 0.75. \n"
   ]
  },
  {
   "cell_type": "markdown",
   "id": "8c930d61",
   "metadata": {},
   "source": [
    "## Подготовка"
   ]
  },
  {
   "cell_type": "markdown",
   "id": "684b165f",
   "metadata": {},
   "source": [
    "импорт библиотек"
   ]
  },
  {
   "cell_type": "code",
   "execution_count": 1,
   "id": "4fd8f0de",
   "metadata": {},
   "outputs": [
    {
     "name": "stderr",
     "output_type": "stream",
     "text": [
      "[nltk_data] Downloading package wordnet to /home/jovyan/nltk_data...\n",
      "[nltk_data]   Package wordnet is already up-to-date!\n"
     ]
    }
   ],
   "source": [
    "import pandas as pd\n",
    "import numpy as np\n",
    "import torch\n",
    "import transformers\n",
    "import re\n",
    "import nltk\n",
    "from pymystem3 import Mystem\n",
    "from nltk.stem import WordNetLemmatizer #lemm\n",
    "nltk.download('wordnet')#lemm\n",
    "from nltk.corpus import stopwords\n",
    "from tqdm import notebook\n",
    "from sklearn.feature_extraction.text import TfidfVectorizer\n",
    "from sklearn.model_selection import train_test_split\n",
    "from sklearn.model_selection import cross_val_score\n",
    "from sklearn.model_selection import GridSearchCV\n",
    "from sklearn.metrics import f1_score\n",
    "from sklearn.linear_model import LogisticRegression\n",
    "from sklearn.ensemble import RandomForestClassifier\n",
    "from catboost import CatBoostClassifier, Pool\n",
    "import warnings\n",
    "warnings.filterwarnings('ignore')"
   ]
  },
  {
   "cell_type": "code",
   "execution_count": 2,
   "id": "1b7e7984",
   "metadata": {},
   "outputs": [],
   "source": [
    "try:\n",
    "    df = pd.read_csv('C:/Users/Nshan/Desktop/машинное обучение в тексте/toxic_comments.csv')\n",
    "except:\n",
    "    df = pd.read_csv('/datasets/toxic_comments.csv')"
   ]
  },
  {
   "cell_type": "code",
   "execution_count": 3,
   "id": "81b4bd0e",
   "metadata": {},
   "outputs": [
    {
     "data": {
      "text/html": [
       "<div>\n",
       "<style scoped>\n",
       "    .dataframe tbody tr th:only-of-type {\n",
       "        vertical-align: middle;\n",
       "    }\n",
       "\n",
       "    .dataframe tbody tr th {\n",
       "        vertical-align: top;\n",
       "    }\n",
       "\n",
       "    .dataframe thead th {\n",
       "        text-align: right;\n",
       "    }\n",
       "</style>\n",
       "<table border=\"1\" class=\"dataframe\">\n",
       "  <thead>\n",
       "    <tr style=\"text-align: right;\">\n",
       "      <th></th>\n",
       "      <th>text</th>\n",
       "      <th>toxic</th>\n",
       "    </tr>\n",
       "  </thead>\n",
       "  <tbody>\n",
       "    <tr>\n",
       "      <th>0</th>\n",
       "      <td>Explanation\\nWhy the edits made under my usern...</td>\n",
       "      <td>0</td>\n",
       "    </tr>\n",
       "    <tr>\n",
       "      <th>1</th>\n",
       "      <td>D'aww! He matches this background colour I'm s...</td>\n",
       "      <td>0</td>\n",
       "    </tr>\n",
       "    <tr>\n",
       "      <th>2</th>\n",
       "      <td>Hey man, I'm really not trying to edit war. It...</td>\n",
       "      <td>0</td>\n",
       "    </tr>\n",
       "    <tr>\n",
       "      <th>3</th>\n",
       "      <td>\"\\nMore\\nI can't make any real suggestions on ...</td>\n",
       "      <td>0</td>\n",
       "    </tr>\n",
       "    <tr>\n",
       "      <th>4</th>\n",
       "      <td>You, sir, are my hero. Any chance you remember...</td>\n",
       "      <td>0</td>\n",
       "    </tr>\n",
       "    <tr>\n",
       "      <th>5</th>\n",
       "      <td>\"\\n\\nCongratulations from me as well, use the ...</td>\n",
       "      <td>0</td>\n",
       "    </tr>\n",
       "    <tr>\n",
       "      <th>6</th>\n",
       "      <td>COCKSUCKER BEFORE YOU PISS AROUND ON MY WORK</td>\n",
       "      <td>1</td>\n",
       "    </tr>\n",
       "    <tr>\n",
       "      <th>7</th>\n",
       "      <td>Your vandalism to the Matt Shirvington article...</td>\n",
       "      <td>0</td>\n",
       "    </tr>\n",
       "    <tr>\n",
       "      <th>8</th>\n",
       "      <td>Sorry if the word 'nonsense' was offensive to ...</td>\n",
       "      <td>0</td>\n",
       "    </tr>\n",
       "    <tr>\n",
       "      <th>9</th>\n",
       "      <td>alignment on this subject and which are contra...</td>\n",
       "      <td>0</td>\n",
       "    </tr>\n",
       "  </tbody>\n",
       "</table>\n",
       "</div>"
      ],
      "text/plain": [
       "                                                text  toxic\n",
       "0  Explanation\\nWhy the edits made under my usern...      0\n",
       "1  D'aww! He matches this background colour I'm s...      0\n",
       "2  Hey man, I'm really not trying to edit war. It...      0\n",
       "3  \"\\nMore\\nI can't make any real suggestions on ...      0\n",
       "4  You, sir, are my hero. Any chance you remember...      0\n",
       "5  \"\\n\\nCongratulations from me as well, use the ...      0\n",
       "6       COCKSUCKER BEFORE YOU PISS AROUND ON MY WORK      1\n",
       "7  Your vandalism to the Matt Shirvington article...      0\n",
       "8  Sorry if the word 'nonsense' was offensive to ...      0\n",
       "9  alignment on this subject and which are contra...      0"
      ]
     },
     "execution_count": 3,
     "metadata": {},
     "output_type": "execute_result"
    }
   ],
   "source": [
    "df.head(10)"
   ]
  },
  {
   "cell_type": "code",
   "execution_count": 4,
   "id": "d10dc883",
   "metadata": {},
   "outputs": [
    {
     "name": "stdout",
     "output_type": "stream",
     "text": [
      "<class 'pandas.core.frame.DataFrame'>\n",
      "RangeIndex: 159571 entries, 0 to 159570\n",
      "Data columns (total 2 columns):\n",
      " #   Column  Non-Null Count   Dtype \n",
      "---  ------  --------------   ----- \n",
      " 0   text    159571 non-null  object\n",
      " 1   toxic   159571 non-null  int64 \n",
      "dtypes: int64(1), object(1)\n",
      "memory usage: 2.4+ MB\n"
     ]
    }
   ],
   "source": [
    "df.info()"
   ]
  },
  {
   "cell_type": "code",
   "execution_count": 5,
   "id": "f83c1603",
   "metadata": {
    "scrolled": true
   },
   "outputs": [
    {
     "data": {
      "text/plain": [
       "text     0\n",
       "toxic    0\n",
       "dtype: int64"
      ]
     },
     "execution_count": 5,
     "metadata": {},
     "output_type": "execute_result"
    }
   ],
   "source": [
    "df.isna().sum()"
   ]
  },
  {
   "cell_type": "markdown",
   "id": "452aa7e6",
   "metadata": {},
   "source": [
    "Пропусков в датасете нет."
   ]
  },
  {
   "cell_type": "code",
   "execution_count": 6,
   "id": "bfb1bc2e",
   "metadata": {},
   "outputs": [
    {
     "data": {
      "text/plain": [
       "0"
      ]
     },
     "execution_count": 6,
     "metadata": {},
     "output_type": "execute_result"
    }
   ],
   "source": [
    "df.duplicated().sum()"
   ]
  },
  {
   "cell_type": "code",
   "execution_count": 7,
   "id": "4ce51fd8",
   "metadata": {
    "scrolled": true
   },
   "outputs": [
    {
     "data": {
      "text/html": [
       "<div>\n",
       "<style scoped>\n",
       "    .dataframe tbody tr th:only-of-type {\n",
       "        vertical-align: middle;\n",
       "    }\n",
       "\n",
       "    .dataframe tbody tr th {\n",
       "        vertical-align: top;\n",
       "    }\n",
       "\n",
       "    .dataframe thead th {\n",
       "        text-align: right;\n",
       "    }\n",
       "</style>\n",
       "<table border=\"1\" class=\"dataframe\">\n",
       "  <thead>\n",
       "    <tr style=\"text-align: right;\">\n",
       "      <th></th>\n",
       "      <th>text</th>\n",
       "      <th>toxic</th>\n",
       "    </tr>\n",
       "  </thead>\n",
       "  <tbody>\n",
       "    <tr>\n",
       "      <th>143080</th>\n",
       "      <td>\"\\n\\n \"\"wikipedia isn't perfect, but its model...</td>\n",
       "      <td>0</td>\n",
       "    </tr>\n",
       "    <tr>\n",
       "      <th>36974</th>\n",
       "      <td>\"\\n\\n \"\"wikipedia isn't perfect, but its model...</td>\n",
       "      <td>0</td>\n",
       "    </tr>\n",
       "    <tr>\n",
       "      <th>136461</th>\n",
       "      <td>\"\\n\\n Please do not add nonsense to Wikipedia ...</td>\n",
       "      <td>0</td>\n",
       "    </tr>\n",
       "    <tr>\n",
       "      <th>78415</th>\n",
       "      <td>\"\\n\\n Please do not add nonsense to wikipedia ...</td>\n",
       "      <td>0</td>\n",
       "    </tr>\n",
       "    <tr>\n",
       "      <th>16019</th>\n",
       "      <td>\"\\n\\n Unblock Request \\n\\n\"</td>\n",
       "      <td>0</td>\n",
       "    </tr>\n",
       "    <tr>\n",
       "      <th>29636</th>\n",
       "      <td>\"\\n\\n Unblock request \\n\\n\"</td>\n",
       "      <td>0</td>\n",
       "    </tr>\n",
       "    <tr>\n",
       "      <th>96528</th>\n",
       "      <td>\"\\n\\n unblock request \\n\\n\"</td>\n",
       "      <td>0</td>\n",
       "    </tr>\n",
       "    <tr>\n",
       "      <th>135029</th>\n",
       "      <td>\"\\n\\nPlease do not add nonsense to Wikipedia. ...</td>\n",
       "      <td>0</td>\n",
       "    </tr>\n",
       "    <tr>\n",
       "      <th>68816</th>\n",
       "      <td>\"\\n\\nPlease do not add nonsense to Wikipedia. ...</td>\n",
       "      <td>0</td>\n",
       "    </tr>\n",
       "    <tr>\n",
       "      <th>141796</th>\n",
       "      <td>\"Thank you for experimenting with  Wikipedia. ...</td>\n",
       "      <td>0</td>\n",
       "    </tr>\n",
       "  </tbody>\n",
       "</table>\n",
       "</div>"
      ],
      "text/plain": [
       "                                                     text  toxic\n",
       "143080  \"\\n\\n \"\"wikipedia isn't perfect, but its model...      0\n",
       "36974   \"\\n\\n \"\"wikipedia isn't perfect, but its model...      0\n",
       "136461  \"\\n\\n Please do not add nonsense to Wikipedia ...      0\n",
       "78415   \"\\n\\n Please do not add nonsense to wikipedia ...      0\n",
       "16019                         \"\\n\\n Unblock Request \\n\\n\"      0\n",
       "29636                         \"\\n\\n Unblock request \\n\\n\"      0\n",
       "96528                         \"\\n\\n unblock request \\n\\n\"      0\n",
       "135029  \"\\n\\nPlease do not add nonsense to Wikipedia. ...      0\n",
       "68816   \"\\n\\nPlease do not add nonsense to Wikipedia. ...      0\n",
       "141796  \"Thank you for experimenting with  Wikipedia. ...      0"
      ]
     },
     "execution_count": 7,
     "metadata": {},
     "output_type": "execute_result"
    }
   ],
   "source": [
    "df[df['text'].str.lower().duplicated(keep=False)].sort_values(by='text').head(10)"
   ]
  },
  {
   "cell_type": "code",
   "execution_count": 8,
   "id": "011dda76",
   "metadata": {},
   "outputs": [],
   "source": [
    "df['text'] = df['text'].str.lower()"
   ]
  },
  {
   "cell_type": "code",
   "execution_count": 9,
   "id": "2da481d0",
   "metadata": {},
   "outputs": [
    {
     "data": {
      "text/plain": [
       "45"
      ]
     },
     "execution_count": 9,
     "metadata": {},
     "output_type": "execute_result"
    }
   ],
   "source": [
    "df.duplicated().sum()"
   ]
  },
  {
   "cell_type": "markdown",
   "id": "075704a0",
   "metadata": {},
   "source": [
    "Найдено 45 дубликатов. Удалим их."
   ]
  },
  {
   "cell_type": "code",
   "execution_count": 10,
   "id": "16b27259",
   "metadata": {},
   "outputs": [],
   "source": [
    "df = df.drop_duplicates().reset_index(drop=True)"
   ]
  },
  {
   "cell_type": "code",
   "execution_count": 11,
   "metadata": {},
   "outputs": [
    {
     "data": {
      "text/plain": [
       "0"
      ]
     },
     "execution_count": 11,
     "metadata": {},
     "output_type": "execute_result"
    }
   ],
   "source": [
    "df.duplicated().sum()"
   ]
  },
  {
   "cell_type": "code",
   "execution_count": 12,
   "metadata": {},
   "outputs": [],
   "source": [
    "features = df['text']\n",
    "target = df['toxic']"
   ]
  },
  {
   "cell_type": "code",
   "execution_count": 13,
   "metadata": {
    "scrolled": false
   },
   "outputs": [
    {
     "data": {
      "text/plain": [
       "0         explanation\\nwhy the edits made under my usern...\n",
       "1         d'aww! he matches this background colour i'm s...\n",
       "2         hey man, i'm really not trying to edit war. it...\n",
       "3         \"\\nmore\\ni can't make any real suggestions on ...\n",
       "4         you, sir, are my hero. any chance you remember...\n",
       "                                ...                        \n",
       "159521    \":::::and for the second time of asking, when ...\n",
       "159522    you should be ashamed of yourself \\n\\nthat is ...\n",
       "159523    spitzer \\n\\numm, theres no actual article for ...\n",
       "159524    and it looks like it was actually you who put ...\n",
       "159525    \"\\nand ... i really don't think you understand...\n",
       "Name: text, Length: 159526, dtype: object"
      ]
     },
     "execution_count": 13,
     "metadata": {},
     "output_type": "execute_result"
    }
   ],
   "source": [
    "features"
   ]
  },
  {
   "cell_type": "code",
   "execution_count": 14,
   "metadata": {},
   "outputs": [],
   "source": [
    "#m = Mystem()\n",
    "#features = features.apply(lambda x: m.lemmatize(x))\n",
    "lemm = WordNetLemmatizer()"
   ]
  },
  {
   "cell_type": "code",
   "execution_count": 15,
   "metadata": {
    "scrolled": true
   },
   "outputs": [],
   "source": [
    "features = features.apply(lambda x: lemm.lemmatize(x))\n",
    "#for text in features:\n",
    " #   fin_text = []\n",
    "  #  text_words =  text.split()\n",
    "   # for word in text_words:\n",
    "    #    word = lemm.lemmatize(word)\n",
    "     #   fin_text.append(word)\n",
    "    #features[text] = ' '.join(fin_text)"
   ]
  },
  {
   "cell_type": "code",
   "execution_count": 16,
   "metadata": {},
   "outputs": [
    {
     "data": {
      "text/plain": [
       "0         explanation\\nwhy the edits made under my usern...\n",
       "1         d'aww! he matches this background colour i'm s...\n",
       "2         hey man, i'm really not trying to edit war. it...\n",
       "3         \"\\nmore\\ni can't make any real suggestions on ...\n",
       "4         you, sir, are my hero. any chance you remember...\n",
       "                                ...                        \n",
       "159521    \":::::and for the second time of asking, when ...\n",
       "159522    you should be ashamed of yourself \\n\\nthat is ...\n",
       "159523    spitzer \\n\\numm, theres no actual article for ...\n",
       "159524    and it looks like it was actually you who put ...\n",
       "159525    \"\\nand ... i really don't think you understand...\n",
       "Name: text, Length: 159526, dtype: object"
      ]
     },
     "execution_count": 16,
     "metadata": {},
     "output_type": "execute_result"
    }
   ],
   "source": [
    "features"
   ]
  },
  {
   "cell_type": "code",
   "execution_count": 17,
   "metadata": {},
   "outputs": [],
   "source": [
    "features = features.apply(lambda x: re.sub(r'[^a-zA-Z0-9]', ' ', x))"
   ]
  },
  {
   "cell_type": "code",
   "execution_count": 18,
   "metadata": {
    "scrolled": true
   },
   "outputs": [
    {
     "data": {
      "text/plain": [
       "0         explanation why the edits made under my userna...\n",
       "1         d aww  he matches this background colour i m s...\n",
       "2         hey man  i m really not trying to edit war  it...\n",
       "3           more i can t make any real suggestions on im...\n",
       "4         you  sir  are my hero  any chance you remember...\n",
       "                                ...                        \n",
       "159521          and for the second time of asking  when ...\n",
       "159522    you should be ashamed of yourself   that is a ...\n",
       "159523    spitzer   umm  theres no actual article for pr...\n",
       "159524    and it looks like it was actually you who put ...\n",
       "159525      and     i really don t think you understand ...\n",
       "Name: text, Length: 159526, dtype: object"
      ]
     },
     "execution_count": 18,
     "metadata": {},
     "output_type": "execute_result"
    }
   ],
   "source": [
    "features"
   ]
  },
  {
   "cell_type": "code",
   "execution_count": 19,
   "metadata": {},
   "outputs": [],
   "source": [
    "for i in range(len(features)):\n",
    "    features[i] = features[i].split()"
   ]
  },
  {
   "cell_type": "code",
   "execution_count": 20,
   "metadata": {},
   "outputs": [
    {
     "data": {
      "text/plain": [
       "0         [explanation, why, the, edits, made, under, my...\n",
       "1         [d, aww, he, matches, this, background, colour...\n",
       "2         [hey, man, i, m, really, not, trying, to, edit...\n",
       "3         [more, i, can, t, make, any, real, suggestions...\n",
       "4         [you, sir, are, my, hero, any, chance, you, re...\n",
       "                                ...                        \n",
       "159521    [and, for, the, second, time, of, asking, when...\n",
       "159522    [you, should, be, ashamed, of, yourself, that,...\n",
       "159523    [spitzer, umm, theres, no, actual, article, fo...\n",
       "159524    [and, it, looks, like, it, was, actually, you,...\n",
       "159525    [and, i, really, don, t, think, you, understan...\n",
       "Name: text, Length: 159526, dtype: object"
      ]
     },
     "execution_count": 20,
     "metadata": {},
     "output_type": "execute_result"
    }
   ],
   "source": [
    "features"
   ]
  },
  {
   "cell_type": "code",
   "execution_count": 21,
   "metadata": {},
   "outputs": [],
   "source": [
    "for i in range(len(features)):\n",
    "    features[i] = ' '.join(features[i])"
   ]
  },
  {
   "cell_type": "code",
   "execution_count": 22,
   "metadata": {},
   "outputs": [
    {
     "data": {
      "text/plain": [
       "0         explanation why the edits made under my userna...\n",
       "1         d aww he matches this background colour i m se...\n",
       "2         hey man i m really not trying to edit war it s...\n",
       "3         more i can t make any real suggestions on impr...\n",
       "4         you sir are my hero any chance you remember wh...\n",
       "                                ...                        \n",
       "159521    and for the second time of asking when your vi...\n",
       "159522    you should be ashamed of yourself that is a ho...\n",
       "159523    spitzer umm theres no actual article for prost...\n",
       "159524    and it looks like it was actually you who put ...\n",
       "159525    and i really don t think you understand i came...\n",
       "Name: text, Length: 159526, dtype: object"
      ]
     },
     "execution_count": 22,
     "metadata": {},
     "output_type": "execute_result"
    }
   ],
   "source": [
    "features"
   ]
  },
  {
   "cell_type": "code",
   "execution_count": 23,
   "metadata": {},
   "outputs": [
    {
     "name": "stderr",
     "output_type": "stream",
     "text": [
      "[nltk_data] Downloading package stopwords to /home/jovyan/nltk_data...\n",
      "[nltk_data]   Package stopwords is already up-to-date!\n"
     ]
    }
   ],
   "source": [
    "nltk.download('stopwords')\n",
    "stop_words = set(stopwords.words('english'))"
   ]
  },
  {
   "cell_type": "code",
   "execution_count": 24,
   "metadata": {},
   "outputs": [],
   "source": [
    "count_v = TfidfVectorizer(stop_words=stop_words)"
   ]
  },
  {
   "cell_type": "code",
   "execution_count": 25,
   "metadata": {},
   "outputs": [],
   "source": [
    "features_train, features_test, target_train, target_test = train_test_split(features, target, test_size=0.25)"
   ]
  },
  {
   "cell_type": "code",
   "execution_count": 26,
   "metadata": {},
   "outputs": [
    {
     "data": {
      "text/plain": [
       "119644"
      ]
     },
     "execution_count": 26,
     "metadata": {},
     "output_type": "execute_result"
    }
   ],
   "source": [
    "features_train.shape[0]"
   ]
  },
  {
   "cell_type": "code",
   "execution_count": 27,
   "metadata": {},
   "outputs": [
    {
     "data": {
      "text/plain": [
       "TfidfVectorizer(stop_words={'a', 'about', 'above', 'after', 'again', 'against',\n",
       "                            'ain', 'all', 'am', 'an', 'and', 'any', 'are',\n",
       "                            'aren', \"aren't\", 'as', 'at', 'be', 'because',\n",
       "                            'been', 'before', 'being', 'below', 'between',\n",
       "                            'both', 'but', 'by', 'can', 'couldn', \"couldn't\", ...})"
      ]
     },
     "execution_count": 27,
     "metadata": {},
     "output_type": "execute_result"
    }
   ],
   "source": [
    "count_v.fit(features_train)"
   ]
  },
  {
   "cell_type": "code",
   "execution_count": 28,
   "metadata": {},
   "outputs": [],
   "source": [
    "features_train = count_v.transform(features_train)\n",
    "features_test = count_v.transform(features_test)\n"
   ]
  },
  {
   "cell_type": "markdown",
   "metadata": {},
   "source": [
    "**Выводы**"
   ]
  },
  {
   "cell_type": "markdown",
   "metadata": {},
   "source": [
    "1. Найлено 45 идентичных комментариев. Дубликаты удалены.\n",
    "2. Пропусков в датасете нет.\n",
    "3. Данные подготовлены и разделены на обучающую и тестовую (75:25)"
   ]
  },
  {
   "cell_type": "markdown",
   "id": "a0600733",
   "metadata": {},
   "source": [
    "## Обучение"
   ]
  },
  {
   "cell_type": "markdown",
   "metadata": {},
   "source": [
    "Модель Логистической регрессии"
   ]
  },
  {
   "cell_type": "code",
   "execution_count": 29,
   "id": "034eaf26",
   "metadata": {},
   "outputs": [],
   "source": [
    "model = LogisticRegression(class_weight='balanced')\n",
    "res = cross_val_score(model, features_train, target_train, cv=3, scoring='f1')"
   ]
  },
  {
   "cell_type": "code",
   "execution_count": 30,
   "id": "7524f66f",
   "metadata": {},
   "outputs": [
    {
     "name": "stdout",
     "output_type": "stream",
     "text": [
      "Средняя точность логистической регрессии на кроссвалидации составила: 0.7461835570787495\n"
     ]
    }
   ],
   "source": [
    "print('Средняя точность логистической регрессии на кроссвалидации составила:', res.sum()/res.shape[0])"
   ]
  },
  {
   "cell_type": "markdown",
   "metadata": {},
   "source": [
    "предскзание по логистической регрессии"
   ]
  },
  {
   "cell_type": "code",
   "execution_count": 31,
   "id": "ec19c5f8",
   "metadata": {},
   "outputs": [
    {
     "name": "stdout",
     "output_type": "stream",
     "text": [
      "f1 на модели логистической регрессии равен: 0.753844475951576\n"
     ]
    }
   ],
   "source": [
    "model.fit(features_train, target_train)\n",
    "predictions = model.predict(features_test)\n",
    "print('f1 на модели логистической регрессии равен:', f1_score(target_test, predictions))"
   ]
  },
  {
   "cell_type": "markdown",
   "metadata": {},
   "source": [
    "модель случайного леса"
   ]
  },
  {
   "cell_type": "code",
   "execution_count": 32,
   "metadata": {},
   "outputs": [],
   "source": [
    "params_set = {\n",
    "    'max_depth': [5, 10, 20],\n",
    "    'min_samples_leaf': [1, 5],\n",
    "    'n_estimators': [3, 5]\n",
    "}\n",
    "grid = GridSearchCV(estimator=RandomForestClassifier(random_state=12345), param_grid=params_set, cv=3, scoring='f1')"
   ]
  },
  {
   "cell_type": "code",
   "execution_count": 33,
   "metadata": {},
   "outputs": [
    {
     "data": {
      "text/plain": [
       "GridSearchCV(cv=3, estimator=RandomForestClassifier(random_state=12345),\n",
       "             param_grid={'max_depth': [5, 10, 20], 'min_samples_leaf': [1, 5],\n",
       "                         'n_estimators': [3, 5]},\n",
       "             scoring='f1')"
      ]
     },
     "execution_count": 33,
     "metadata": {},
     "output_type": "execute_result"
    }
   ],
   "source": [
    "grid.fit(features_train, target_train)"
   ]
  },
  {
   "cell_type": "code",
   "execution_count": 34,
   "metadata": {},
   "outputs": [
    {
     "data": {
      "text/plain": [
       "RandomForestClassifier(max_depth=20, n_estimators=3, random_state=12345)"
      ]
     },
     "execution_count": 34,
     "metadata": {},
     "output_type": "execute_result"
    }
   ],
   "source": [
    "model_for = grid.best_estimator_\n",
    "model_for"
   ]
  },
  {
   "cell_type": "code",
   "execution_count": 35,
   "metadata": {
    "scrolled": true
   },
   "outputs": [
    {
     "name": "stdout",
     "output_type": "stream",
     "text": [
      "f1 для модели случайного леса: 0.03571428571428571\n"
     ]
    }
   ],
   "source": [
    "predictions_forest = model_for.predict(features_test)\n",
    "print('f1 для модели случайного леса:', f1_score(target_test, predictions_forest))"
   ]
  },
  {
   "cell_type": "markdown",
   "metadata": {},
   "source": [
    "модель случайного леса показала плохой результат, что говорит о невозможности использования данной модели для поставленной задачи."
   ]
  },
  {
   "cell_type": "markdown",
   "id": "03df3118",
   "metadata": {},
   "source": [
    "## Выводы"
   ]
  },
  {
   "cell_type": "markdown",
   "metadata": {},
   "source": [
    "1. найлено 45 идентичных комментариев. Дубликаты удалены\n",
    "2. Пропусков в датасете нет\n",
    "3. Данные подготовлены и разделены на обучающую и тестовую (75:25)\n",
    "4. Средняя точность логистической регрессии на кроссвалидации составила: 0.747335158209104\n",
    "5. f1 на модели логистической регрессии на тестовой выборке равен: 0.7543683917640513\n",
    "6. f1 для модели случайного леса: 0.0069703759024147376. модель случайного леса показала плохой результат, что говорит о невозможности использования данной модели для поставленной задачи.\n",
    "7. Модель CatBoost обучается долго и показала результаты меньшие чем модель логистической регрессии. В связи с тем, что модель долго обучается было решено не включать её в отчёт, так как другая часть кода будет прогружаться очень долго.\n",
    "**Из всех моделей метрика f1 соотвествует у модели логистической регрессии, поэтому стоит выбрать её**"
   ]
  }
 ],
 "metadata": {
  "ExecuteTimeLog": [
   {
    "duration": 3083,
    "start_time": "2022-05-31T18:22:07.238Z"
   },
   {
    "duration": 2089,
    "start_time": "2022-05-31T18:22:12.470Z"
   },
   {
    "duration": 12,
    "start_time": "2022-05-31T18:22:23.536Z"
   },
   {
    "duration": 27,
    "start_time": "2022-05-31T18:22:26.475Z"
   },
   {
    "duration": 23,
    "start_time": "2022-05-31T18:22:27.604Z"
   },
   {
    "duration": 199,
    "start_time": "2022-05-31T18:22:30.046Z"
   },
   {
    "duration": 325,
    "start_time": "2022-05-31T18:22:32.262Z"
   },
   {
    "duration": 194,
    "start_time": "2022-05-31T18:22:34.946Z"
   },
   {
    "duration": 185,
    "start_time": "2022-05-31T18:22:35.290Z"
   },
   {
    "duration": 185,
    "start_time": "2022-05-31T18:22:36.519Z"
   },
   {
    "duration": 175,
    "start_time": "2022-05-31T18:22:45.585Z"
   },
   {
    "duration": 378,
    "start_time": "2022-05-31T18:22:49.534Z"
   },
   {
    "duration": 199447,
    "start_time": "2022-05-31T18:26:17.026Z"
   },
   {
    "duration": 57,
    "start_time": "2022-05-31T18:30:58.599Z"
   },
   {
    "duration": 3143,
    "start_time": "2022-05-31T18:32:04.914Z"
   },
   {
    "duration": 2097,
    "start_time": "2022-05-31T18:32:08.059Z"
   },
   {
    "duration": 15,
    "start_time": "2022-05-31T18:32:10.157Z"
   },
   {
    "duration": 38,
    "start_time": "2022-05-31T18:32:10.174Z"
   },
   {
    "duration": 23,
    "start_time": "2022-05-31T18:32:10.213Z"
   },
   {
    "duration": 206,
    "start_time": "2022-05-31T18:32:10.238Z"
   },
   {
    "duration": 327,
    "start_time": "2022-05-31T18:32:10.446Z"
   },
   {
    "duration": 212,
    "start_time": "2022-05-31T18:32:10.775Z"
   },
   {
    "duration": 192,
    "start_time": "2022-05-31T18:32:10.988Z"
   },
   {
    "duration": 190,
    "start_time": "2022-05-31T18:32:11.182Z"
   },
   {
    "duration": 167,
    "start_time": "2022-05-31T18:32:11.374Z"
   },
   {
    "duration": 341,
    "start_time": "2022-05-31T18:32:11.543Z"
   },
   {
    "duration": 0,
    "start_time": "2022-05-31T18:32:11.885Z"
   },
   {
    "duration": 0,
    "start_time": "2022-05-31T18:32:11.887Z"
   },
   {
    "duration": 3,
    "start_time": "2022-05-31T18:32:33.875Z"
   },
   {
    "duration": 2,
    "start_time": "2022-05-31T18:32:49.700Z"
   },
   {
    "duration": 704,
    "start_time": "2022-05-31T18:37:07.367Z"
   },
   {
    "duration": 2,
    "start_time": "2022-05-31T18:37:32.636Z"
   },
   {
    "duration": 13448,
    "start_time": "2022-05-31T18:37:34.849Z"
   },
   {
    "duration": 4,
    "start_time": "2022-05-31T18:38:21.305Z"
   },
   {
    "duration": 117362,
    "start_time": "2022-05-31T18:42:52.448Z"
   },
   {
    "duration": 187172,
    "start_time": "2022-05-31T18:49:52.534Z"
   },
   {
    "duration": 1142,
    "start_time": "2022-05-31T18:52:59.708Z"
   },
   {
    "duration": 300,
    "start_time": "2022-05-31T18:57:57.154Z"
   },
   {
    "duration": 4,
    "start_time": "2022-05-31T18:58:11.537Z"
   },
   {
    "duration": 27,
    "start_time": "2022-05-31T19:36:52.174Z"
   },
   {
    "duration": 5,
    "start_time": "2022-05-31T19:40:31.100Z"
   },
   {
    "duration": 3996,
    "start_time": "2022-05-31T19:41:54.014Z"
   },
   {
    "duration": 2396,
    "start_time": "2022-05-31T19:41:58.012Z"
   },
   {
    "duration": 19,
    "start_time": "2022-05-31T19:42:00.409Z"
   },
   {
    "duration": 35,
    "start_time": "2022-05-31T19:42:00.431Z"
   },
   {
    "duration": 37,
    "start_time": "2022-05-31T19:42:00.467Z"
   },
   {
    "duration": 231,
    "start_time": "2022-05-31T19:42:00.506Z"
   },
   {
    "duration": 371,
    "start_time": "2022-05-31T19:42:00.739Z"
   },
   {
    "duration": 245,
    "start_time": "2022-05-31T19:42:01.112Z"
   },
   {
    "duration": 259,
    "start_time": "2022-05-31T19:42:01.359Z"
   },
   {
    "duration": 223,
    "start_time": "2022-05-31T19:42:01.621Z"
   },
   {
    "duration": 215,
    "start_time": "2022-05-31T19:42:01.847Z"
   },
   {
    "duration": 3,
    "start_time": "2022-05-31T19:42:02.064Z"
   },
   {
    "duration": 1871,
    "start_time": "2022-05-31T19:42:02.080Z"
   },
   {
    "duration": 327,
    "start_time": "2022-05-31T19:42:03.952Z"
   },
   {
    "duration": 4,
    "start_time": "2022-05-31T19:47:26.037Z"
   },
   {
    "duration": 56,
    "start_time": "2022-05-31T19:47:44.194Z"
   },
   {
    "duration": 4086,
    "start_time": "2022-05-31T19:47:52.220Z"
   },
   {
    "duration": 2726,
    "start_time": "2022-05-31T19:47:56.308Z"
   },
   {
    "duration": 14,
    "start_time": "2022-05-31T19:47:59.036Z"
   },
   {
    "duration": 35,
    "start_time": "2022-05-31T19:47:59.052Z"
   },
   {
    "duration": 49,
    "start_time": "2022-05-31T19:47:59.089Z"
   },
   {
    "duration": 241,
    "start_time": "2022-05-31T19:47:59.139Z"
   },
   {
    "duration": 406,
    "start_time": "2022-05-31T19:47:59.382Z"
   },
   {
    "duration": 253,
    "start_time": "2022-05-31T19:47:59.789Z"
   },
   {
    "duration": 223,
    "start_time": "2022-05-31T19:48:00.044Z"
   },
   {
    "duration": 234,
    "start_time": "2022-05-31T19:48:00.269Z"
   },
   {
    "duration": 218,
    "start_time": "2022-05-31T19:48:00.505Z"
   },
   {
    "duration": 4,
    "start_time": "2022-05-31T19:48:00.725Z"
   },
   {
    "duration": 2081,
    "start_time": "2022-05-31T19:48:00.731Z"
   },
   {
    "duration": 105686,
    "start_time": "2022-05-31T19:48:02.821Z"
   },
   {
    "duration": 4,
    "start_time": "2022-05-31T19:50:09.369Z"
   },
   {
    "duration": 5,
    "start_time": "2022-05-31T19:50:28.102Z"
   },
   {
    "duration": 4,
    "start_time": "2022-05-31T19:50:38.131Z"
   },
   {
    "duration": 3,
    "start_time": "2022-05-31T19:56:08.727Z"
   },
   {
    "duration": 56,
    "start_time": "2022-05-31T19:56:43.660Z"
   },
   {
    "duration": 3782,
    "start_time": "2022-05-31T19:56:49.407Z"
   },
   {
    "duration": 2333,
    "start_time": "2022-05-31T19:56:53.191Z"
   },
   {
    "duration": 15,
    "start_time": "2022-05-31T19:56:55.525Z"
   },
   {
    "duration": 27,
    "start_time": "2022-05-31T19:56:55.543Z"
   },
   {
    "duration": 38,
    "start_time": "2022-05-31T19:56:55.572Z"
   },
   {
    "duration": 232,
    "start_time": "2022-05-31T19:56:55.612Z"
   },
   {
    "duration": 364,
    "start_time": "2022-05-31T19:56:55.846Z"
   },
   {
    "duration": 221,
    "start_time": "2022-05-31T19:56:56.212Z"
   },
   {
    "duration": 203,
    "start_time": "2022-05-31T19:56:56.435Z"
   },
   {
    "duration": 191,
    "start_time": "2022-05-31T19:56:56.640Z"
   },
   {
    "duration": 179,
    "start_time": "2022-05-31T19:56:56.832Z"
   },
   {
    "duration": 3,
    "start_time": "2022-05-31T19:56:57.013Z"
   },
   {
    "duration": 1823,
    "start_time": "2022-05-31T19:56:57.017Z"
   },
   {
    "duration": 297,
    "start_time": "2022-05-31T19:56:58.842Z"
   },
   {
    "duration": 0,
    "start_time": "2022-05-31T19:56:59.140Z"
   },
   {
    "duration": 110706,
    "start_time": "2022-05-31T19:57:04.830Z"
   },
   {
    "duration": 4,
    "start_time": "2022-05-31T19:59:36.140Z"
   },
   {
    "duration": 3,
    "start_time": "2022-05-31T20:00:39.292Z"
   },
   {
    "duration": 102398,
    "start_time": "2022-05-31T20:00:50.269Z"
   },
   {
    "duration": 5,
    "start_time": "2022-05-31T20:02:32.677Z"
   },
   {
    "duration": 4,
    "start_time": "2022-05-31T20:05:50.545Z"
   },
   {
    "duration": 642291,
    "start_time": "2022-05-31T20:05:54.196Z"
   },
   {
    "duration": 0,
    "start_time": "2022-05-31T20:16:36.489Z"
   },
   {
    "duration": 0,
    "start_time": "2022-05-31T20:16:36.489Z"
   },
   {
    "duration": 16,
    "start_time": "2022-05-31T20:16:42.022Z"
   },
   {
    "duration": 26498,
    "start_time": "2022-05-31T20:16:54.206Z"
   },
   {
    "duration": 3274,
    "start_time": "2022-05-31T20:17:27.115Z"
   },
   {
    "duration": 705,
    "start_time": "2022-05-31T20:17:30.393Z"
   },
   {
    "duration": 14,
    "start_time": "2022-05-31T20:17:31.100Z"
   },
   {
    "duration": 24,
    "start_time": "2022-05-31T20:17:31.115Z"
   },
   {
    "duration": 35,
    "start_time": "2022-05-31T20:17:31.140Z"
   },
   {
    "duration": 204,
    "start_time": "2022-05-31T20:17:31.177Z"
   },
   {
    "duration": 320,
    "start_time": "2022-05-31T20:17:31.383Z"
   },
   {
    "duration": 238,
    "start_time": "2022-05-31T20:17:31.704Z"
   },
   {
    "duration": 195,
    "start_time": "2022-05-31T20:17:31.945Z"
   },
   {
    "duration": 193,
    "start_time": "2022-05-31T20:17:32.142Z"
   },
   {
    "duration": 204,
    "start_time": "2022-05-31T20:17:32.337Z"
   },
   {
    "duration": 2,
    "start_time": "2022-05-31T20:17:32.543Z"
   },
   {
    "duration": 471793,
    "start_time": "2022-05-31T20:17:32.546Z"
   },
   {
    "duration": 0,
    "start_time": "2022-05-31T20:25:24.340Z"
   },
   {
    "duration": 0,
    "start_time": "2022-05-31T20:25:24.341Z"
   },
   {
    "duration": 0,
    "start_time": "2022-05-31T20:25:24.342Z"
   },
   {
    "duration": 964,
    "start_time": "2022-05-31T20:26:17.758Z"
   },
   {
    "duration": 979,
    "start_time": "2022-05-31T20:28:14.339Z"
   },
   {
    "duration": 2987,
    "start_time": "2022-05-31T20:28:27.512Z"
   },
   {
    "duration": 698,
    "start_time": "2022-05-31T20:28:30.500Z"
   },
   {
    "duration": 13,
    "start_time": "2022-05-31T20:28:31.199Z"
   },
   {
    "duration": 41,
    "start_time": "2022-05-31T20:28:31.214Z"
   },
   {
    "duration": 20,
    "start_time": "2022-05-31T20:28:31.256Z"
   },
   {
    "duration": 203,
    "start_time": "2022-05-31T20:28:31.277Z"
   },
   {
    "duration": 316,
    "start_time": "2022-05-31T20:28:31.481Z"
   },
   {
    "duration": 228,
    "start_time": "2022-05-31T20:28:31.798Z"
   },
   {
    "duration": 194,
    "start_time": "2022-05-31T20:28:32.028Z"
   },
   {
    "duration": 213,
    "start_time": "2022-05-31T20:28:32.225Z"
   },
   {
    "duration": 164,
    "start_time": "2022-05-31T20:28:32.439Z"
   },
   {
    "duration": 3,
    "start_time": "2022-05-31T20:28:32.604Z"
   },
   {
    "duration": 1791,
    "start_time": "2022-05-31T20:28:32.609Z"
   },
   {
    "duration": 1018,
    "start_time": "2022-05-31T20:28:34.401Z"
   },
   {
    "duration": 0,
    "start_time": "2022-05-31T20:28:35.421Z"
   },
   {
    "duration": 0,
    "start_time": "2022-05-31T20:28:35.422Z"
   },
   {
    "duration": 0,
    "start_time": "2022-05-31T20:28:35.423Z"
   },
   {
    "duration": 0,
    "start_time": "2022-05-31T20:28:35.424Z"
   },
   {
    "duration": 0,
    "start_time": "2022-05-31T20:28:35.425Z"
   },
   {
    "duration": 0,
    "start_time": "2022-05-31T20:28:35.426Z"
   },
   {
    "duration": 5,
    "start_time": "2022-05-31T20:29:06.491Z"
   },
   {
    "duration": 3,
    "start_time": "2022-05-31T20:29:29.977Z"
   },
   {
    "duration": 4,
    "start_time": "2022-05-31T20:29:37.514Z"
   },
   {
    "duration": 4,
    "start_time": "2022-05-31T20:29:45.967Z"
   },
   {
    "duration": 755,
    "start_time": "2022-05-31T20:30:15.631Z"
   },
   {
    "duration": 2,
    "start_time": "2022-05-31T20:33:36.881Z"
   },
   {
    "duration": 6,
    "start_time": "2022-05-31T20:33:37.395Z"
   },
   {
    "duration": 4,
    "start_time": "2022-05-31T20:34:00.391Z"
   },
   {
    "duration": 13,
    "start_time": "2022-05-31T20:34:03.979Z"
   },
   {
    "duration": 17,
    "start_time": "2022-05-31T20:34:13.380Z"
   },
   {
    "duration": 0,
    "start_time": "2022-05-31T20:48:53.238Z"
   },
   {
    "duration": 129093,
    "start_time": "2022-05-31T20:53:24.879Z"
   },
   {
    "duration": 29,
    "start_time": "2022-05-31T20:57:14.993Z"
   },
   {
    "duration": 415,
    "start_time": "2022-05-31T20:57:50.549Z"
   },
   {
    "duration": 5,
    "start_time": "2022-05-31T20:59:49.789Z"
   },
   {
    "duration": 3030,
    "start_time": "2022-05-31T21:00:29.123Z"
   },
   {
    "duration": 744,
    "start_time": "2022-05-31T21:00:32.155Z"
   },
   {
    "duration": 14,
    "start_time": "2022-05-31T21:00:32.900Z"
   },
   {
    "duration": 25,
    "start_time": "2022-05-31T21:00:32.916Z"
   },
   {
    "duration": 35,
    "start_time": "2022-05-31T21:00:32.942Z"
   },
   {
    "duration": 201,
    "start_time": "2022-05-31T21:00:33.953Z"
   },
   {
    "duration": 326,
    "start_time": "2022-05-31T21:00:34.285Z"
   },
   {
    "duration": 200,
    "start_time": "2022-05-31T21:00:35.034Z"
   },
   {
    "duration": 188,
    "start_time": "2022-05-31T21:00:36.503Z"
   },
   {
    "duration": 181,
    "start_time": "2022-05-31T21:00:37.110Z"
   },
   {
    "duration": 176,
    "start_time": "2022-05-31T21:00:37.718Z"
   },
   {
    "duration": 2,
    "start_time": "2022-05-31T21:00:41.775Z"
   },
   {
    "duration": 5,
    "start_time": "2022-05-31T21:00:51.362Z"
   },
   {
    "duration": 5,
    "start_time": "2022-05-31T21:06:41.560Z"
   },
   {
    "duration": 371338,
    "start_time": "2022-05-31T21:06:41.574Z"
   },
   {
    "duration": 11405,
    "start_time": "2022-05-31T21:12:52.914Z"
   },
   {
    "duration": 5,
    "start_time": "2022-05-31T21:14:26.000Z"
   },
   {
    "duration": 270058,
    "start_time": "2022-05-31T21:15:00.277Z"
   },
   {
    "duration": 405,
    "start_time": "2022-05-31T21:24:24.708Z"
   },
   {
    "duration": 295409,
    "start_time": "2022-05-31T21:24:25.783Z"
   },
   {
    "duration": 4,
    "start_time": "2022-05-31T21:29:21.194Z"
   },
   {
    "duration": 3611,
    "start_time": "2022-06-01T16:28:56.971Z"
   },
   {
    "duration": 2440,
    "start_time": "2022-06-01T16:29:00.583Z"
   },
   {
    "duration": 18,
    "start_time": "2022-06-01T16:29:05.051Z"
   },
   {
    "duration": 32,
    "start_time": "2022-06-01T16:29:05.654Z"
   },
   {
    "duration": 30,
    "start_time": "2022-06-01T16:29:06.744Z"
   },
   {
    "duration": 257,
    "start_time": "2022-06-01T16:29:07.489Z"
   },
   {
    "duration": 366,
    "start_time": "2022-06-01T16:29:07.802Z"
   },
   {
    "duration": 246,
    "start_time": "2022-06-01T16:29:08.170Z"
   },
   {
    "duration": 234,
    "start_time": "2022-06-01T16:29:08.500Z"
   },
   {
    "duration": 220,
    "start_time": "2022-06-01T16:29:09.422Z"
   },
   {
    "duration": 199,
    "start_time": "2022-06-01T16:29:09.925Z"
   },
   {
    "duration": 3,
    "start_time": "2022-06-01T16:29:10.878Z"
   },
   {
    "duration": 5,
    "start_time": "2022-06-01T16:57:45.164Z"
   },
   {
    "duration": 86071,
    "start_time": "2022-06-01T17:33:46.916Z"
   },
   {
    "duration": 8,
    "start_time": "2022-06-01T17:36:40.684Z"
   },
   {
    "duration": 318,
    "start_time": "2022-06-01T17:39:39.974Z"
   },
   {
    "duration": 44,
    "start_time": "2022-06-01T17:40:16.771Z"
   },
   {
    "duration": 167,
    "start_time": "2022-06-01T17:40:21.659Z"
   },
   {
    "duration": 60,
    "start_time": "2022-06-01T17:40:53.013Z"
   },
   {
    "duration": 60,
    "start_time": "2022-06-01T17:41:03.468Z"
   },
   {
    "duration": 10,
    "start_time": "2022-06-01T17:41:25.522Z"
   },
   {
    "duration": 3,
    "start_time": "2022-06-01T17:43:03.672Z"
   },
   {
    "duration": 6,
    "start_time": "2022-06-01T17:43:04.065Z"
   },
   {
    "duration": 16,
    "start_time": "2022-06-01T17:43:54.533Z"
   },
   {
    "duration": 11,
    "start_time": "2022-06-01T17:44:00.938Z"
   },
   {
    "duration": 2705,
    "start_time": "2022-06-01T17:44:08.430Z"
   },
   {
    "duration": 448,
    "start_time": "2022-06-01T17:44:23.930Z"
   },
   {
    "duration": 5,
    "start_time": "2022-06-01T17:44:27.357Z"
   },
   {
    "duration": 353,
    "start_time": "2022-06-01T17:46:24.420Z"
   },
   {
    "duration": 464,
    "start_time": "2022-06-01T17:46:42.233Z"
   },
   {
    "duration": 5,
    "start_time": "2022-06-01T17:46:43.948Z"
   },
   {
    "duration": 4,
    "start_time": "2022-06-01T17:48:41.205Z"
   },
   {
    "duration": 102793,
    "start_time": "2022-06-01T17:49:13.560Z"
   },
   {
    "duration": 9,
    "start_time": "2022-06-01T17:52:41.345Z"
   },
   {
    "duration": 94,
    "start_time": "2022-06-01T17:53:01.604Z"
   },
   {
    "duration": 9,
    "start_time": "2022-06-01T17:53:23.223Z"
   },
   {
    "duration": 6,
    "start_time": "2022-06-01T17:57:01.909Z"
   },
   {
    "duration": 3,
    "start_time": "2022-06-01T17:57:20.721Z"
   },
   {
    "duration": 7,
    "start_time": "2022-06-01T17:57:20.946Z"
   },
   {
    "duration": 427,
    "start_time": "2022-06-01T17:58:14.442Z"
   },
   {
    "duration": 6,
    "start_time": "2022-06-01T17:58:16.607Z"
   },
   {
    "duration": 591,
    "start_time": "2022-06-01T19:15:43.175Z"
   },
   {
    "duration": 492,
    "start_time": "2022-06-01T19:16:30.229Z"
   },
   {
    "duration": 7,
    "start_time": "2022-06-01T19:16:35.147Z"
   },
   {
    "duration": 46,
    "start_time": "2022-06-01T19:16:46.224Z"
   },
   {
    "duration": 67,
    "start_time": "2022-06-01T19:25:18.891Z"
   },
   {
    "duration": 4262,
    "start_time": "2022-06-01T19:25:26.009Z"
   },
   {
    "duration": 2420,
    "start_time": "2022-06-01T19:25:30.273Z"
   },
   {
    "duration": 17,
    "start_time": "2022-06-01T19:25:32.694Z"
   },
   {
    "duration": 32,
    "start_time": "2022-06-01T19:25:32.713Z"
   },
   {
    "duration": 26,
    "start_time": "2022-06-01T19:25:32.747Z"
   },
   {
    "duration": 242,
    "start_time": "2022-06-01T19:25:32.775Z"
   },
   {
    "duration": 377,
    "start_time": "2022-06-01T19:25:33.019Z"
   },
   {
    "duration": 249,
    "start_time": "2022-06-01T19:25:33.398Z"
   },
   {
    "duration": 218,
    "start_time": "2022-06-01T19:25:33.649Z"
   },
   {
    "duration": 216,
    "start_time": "2022-06-01T19:25:33.870Z"
   },
   {
    "duration": 205,
    "start_time": "2022-06-01T19:25:34.088Z"
   },
   {
    "duration": 2,
    "start_time": "2022-06-01T19:25:34.295Z"
   },
   {
    "duration": 11,
    "start_time": "2022-06-01T19:25:34.299Z"
   },
   {
    "duration": 470,
    "start_time": "2022-06-01T19:25:34.311Z"
   },
   {
    "duration": 171437,
    "start_time": "2022-06-01T19:25:34.782Z"
   },
   {
    "duration": 0,
    "start_time": "2022-06-01T19:28:26.221Z"
   },
   {
    "duration": 0,
    "start_time": "2022-06-01T19:28:26.222Z"
   },
   {
    "duration": 0,
    "start_time": "2022-06-01T19:28:26.223Z"
   },
   {
    "duration": 0,
    "start_time": "2022-06-01T19:28:26.224Z"
   },
   {
    "duration": 0,
    "start_time": "2022-06-01T19:28:26.225Z"
   },
   {
    "duration": 0,
    "start_time": "2022-06-01T19:28:26.226Z"
   },
   {
    "duration": 0,
    "start_time": "2022-06-01T19:28:26.228Z"
   },
   {
    "duration": 0,
    "start_time": "2022-06-01T19:28:26.228Z"
   },
   {
    "duration": 0,
    "start_time": "2022-06-01T19:28:26.229Z"
   },
   {
    "duration": 0,
    "start_time": "2022-06-01T19:28:26.230Z"
   },
   {
    "duration": 0,
    "start_time": "2022-06-01T19:28:26.231Z"
   },
   {
    "duration": 0,
    "start_time": "2022-06-01T19:28:26.232Z"
   },
   {
    "duration": 303,
    "start_time": "2022-06-01T19:29:12.504Z"
   },
   {
    "duration": 27308,
    "start_time": "2022-06-01T19:49:53.293Z"
   },
   {
    "duration": 2335,
    "start_time": "2022-06-01T19:50:20.603Z"
   },
   {
    "duration": 15,
    "start_time": "2022-06-01T19:50:22.940Z"
   },
   {
    "duration": 29,
    "start_time": "2022-06-01T19:50:22.957Z"
   },
   {
    "duration": 28,
    "start_time": "2022-06-01T19:50:22.988Z"
   },
   {
    "duration": 248,
    "start_time": "2022-06-01T19:50:23.027Z"
   },
   {
    "duration": 368,
    "start_time": "2022-06-01T19:50:23.277Z"
   },
   {
    "duration": 237,
    "start_time": "2022-06-01T19:50:23.646Z"
   },
   {
    "duration": 231,
    "start_time": "2022-06-01T19:50:23.885Z"
   },
   {
    "duration": 230,
    "start_time": "2022-06-01T19:50:24.120Z"
   },
   {
    "duration": 193,
    "start_time": "2022-06-01T19:50:24.352Z"
   },
   {
    "duration": 3,
    "start_time": "2022-06-01T19:50:24.547Z"
   },
   {
    "duration": 7,
    "start_time": "2022-06-01T19:50:24.552Z"
   },
   {
    "duration": 10,
    "start_time": "2022-06-01T19:50:24.561Z"
   },
   {
    "duration": 344,
    "start_time": "2022-06-01T19:50:24.573Z"
   },
   {
    "duration": 0,
    "start_time": "2022-06-01T19:50:24.919Z"
   },
   {
    "duration": 0,
    "start_time": "2022-06-01T19:50:24.920Z"
   },
   {
    "duration": 0,
    "start_time": "2022-06-01T19:50:24.922Z"
   },
   {
    "duration": 0,
    "start_time": "2022-06-01T19:50:24.926Z"
   },
   {
    "duration": 0,
    "start_time": "2022-06-01T19:50:24.927Z"
   },
   {
    "duration": 0,
    "start_time": "2022-06-01T19:50:24.928Z"
   },
   {
    "duration": 0,
    "start_time": "2022-06-01T19:50:24.929Z"
   },
   {
    "duration": 0,
    "start_time": "2022-06-01T19:50:24.930Z"
   },
   {
    "duration": 0,
    "start_time": "2022-06-01T19:50:24.930Z"
   },
   {
    "duration": 0,
    "start_time": "2022-06-01T19:50:24.931Z"
   },
   {
    "duration": 0,
    "start_time": "2022-06-01T19:50:24.932Z"
   },
   {
    "duration": 0,
    "start_time": "2022-06-01T19:50:24.933Z"
   },
   {
    "duration": 4,
    "start_time": "2022-06-01T19:51:15.972Z"
   },
   {
    "duration": 3,
    "start_time": "2022-06-01T19:51:21.981Z"
   },
   {
    "duration": 126,
    "start_time": "2022-06-01T19:51:23.695Z"
   },
   {
    "duration": 4,
    "start_time": "2022-06-01T19:51:55.448Z"
   },
   {
    "duration": 2,
    "start_time": "2022-06-01T19:52:00.912Z"
   },
   {
    "duration": 119,
    "start_time": "2022-06-01T19:52:02.094Z"
   },
   {
    "duration": 5,
    "start_time": "2022-06-01T19:52:09.367Z"
   },
   {
    "duration": 3,
    "start_time": "2022-06-01T19:52:18.787Z"
   },
   {
    "duration": 154,
    "start_time": "2022-06-01T19:52:19.886Z"
   },
   {
    "duration": 3495,
    "start_time": "2022-06-01T19:53:10.859Z"
   },
   {
    "duration": 813,
    "start_time": "2022-06-01T19:53:14.357Z"
   },
   {
    "duration": 14,
    "start_time": "2022-06-01T19:53:15.172Z"
   },
   {
    "duration": 43,
    "start_time": "2022-06-01T19:53:15.189Z"
   },
   {
    "duration": 26,
    "start_time": "2022-06-01T19:53:15.234Z"
   },
   {
    "duration": 236,
    "start_time": "2022-06-01T19:53:15.262Z"
   },
   {
    "duration": 368,
    "start_time": "2022-06-01T19:53:15.500Z"
   },
   {
    "duration": 250,
    "start_time": "2022-06-01T19:53:15.870Z"
   },
   {
    "duration": 220,
    "start_time": "2022-06-01T19:53:16.122Z"
   },
   {
    "duration": 211,
    "start_time": "2022-06-01T19:53:16.344Z"
   },
   {
    "duration": 197,
    "start_time": "2022-06-01T19:53:16.556Z"
   },
   {
    "duration": 2,
    "start_time": "2022-06-01T19:53:16.755Z"
   },
   {
    "duration": 14,
    "start_time": "2022-06-01T19:53:16.759Z"
   },
   {
    "duration": 9,
    "start_time": "2022-06-01T19:53:16.774Z"
   },
   {
    "duration": 357,
    "start_time": "2022-06-01T19:53:16.784Z"
   },
   {
    "duration": 0,
    "start_time": "2022-06-01T19:53:17.143Z"
   },
   {
    "duration": 0,
    "start_time": "2022-06-01T19:53:17.144Z"
   },
   {
    "duration": 0,
    "start_time": "2022-06-01T19:53:17.145Z"
   },
   {
    "duration": 0,
    "start_time": "2022-06-01T19:53:17.146Z"
   },
   {
    "duration": 0,
    "start_time": "2022-06-01T19:53:17.147Z"
   },
   {
    "duration": 0,
    "start_time": "2022-06-01T19:53:17.149Z"
   },
   {
    "duration": 0,
    "start_time": "2022-06-01T19:53:17.149Z"
   },
   {
    "duration": 0,
    "start_time": "2022-06-01T19:53:17.150Z"
   },
   {
    "duration": 1,
    "start_time": "2022-06-01T19:53:17.151Z"
   },
   {
    "duration": 0,
    "start_time": "2022-06-01T19:53:17.153Z"
   },
   {
    "duration": 0,
    "start_time": "2022-06-01T19:53:17.154Z"
   },
   {
    "duration": 0,
    "start_time": "2022-06-01T19:53:17.155Z"
   },
   {
    "duration": 16,
    "start_time": "2022-06-01T19:55:04.814Z"
   },
   {
    "duration": 2,
    "start_time": "2022-06-01T19:55:54.285Z"
   },
   {
    "duration": 689,
    "start_time": "2022-06-01T19:55:55.837Z"
   },
   {
    "duration": 17,
    "start_time": "2022-06-01T19:56:22.985Z"
   },
   {
    "duration": 3,
    "start_time": "2022-06-01T19:58:01.713Z"
   },
   {
    "duration": 5,
    "start_time": "2022-06-01T19:58:14.425Z"
   },
   {
    "duration": 4,
    "start_time": "2022-06-01T19:58:24.759Z"
   },
   {
    "duration": 3,
    "start_time": "2022-06-01T19:58:32.609Z"
   },
   {
    "duration": 17,
    "start_time": "2022-06-01T19:58:33.732Z"
   },
   {
    "duration": 185,
    "start_time": "2022-06-01T19:58:39.597Z"
   },
   {
    "duration": 3,
    "start_time": "2022-06-01T19:58:59.501Z"
   },
   {
    "duration": 7,
    "start_time": "2022-06-01T19:59:00.703Z"
   },
   {
    "duration": 3,
    "start_time": "2022-06-01T19:59:02.108Z"
   },
   {
    "duration": 150,
    "start_time": "2022-06-01T19:59:08.562Z"
   },
   {
    "duration": 4,
    "start_time": "2022-06-01T20:00:06.338Z"
   },
   {
    "duration": 3,
    "start_time": "2022-06-01T20:00:10.790Z"
   },
   {
    "duration": 136,
    "start_time": "2022-06-01T20:00:11.317Z"
   },
   {
    "duration": 7989,
    "start_time": "2022-06-01T20:01:12.774Z"
   },
   {
    "duration": 5,
    "start_time": "2022-06-01T20:01:23.341Z"
   },
   {
    "duration": 3366,
    "start_time": "2022-06-01T20:02:14.266Z"
   },
   {
    "duration": 780,
    "start_time": "2022-06-01T20:02:17.633Z"
   },
   {
    "duration": 19,
    "start_time": "2022-06-01T20:02:18.414Z"
   },
   {
    "duration": 28,
    "start_time": "2022-06-01T20:02:18.434Z"
   },
   {
    "duration": 24,
    "start_time": "2022-06-01T20:02:18.463Z"
   },
   {
    "duration": 241,
    "start_time": "2022-06-01T20:02:18.489Z"
   },
   {
    "duration": 363,
    "start_time": "2022-06-01T20:02:18.732Z"
   },
   {
    "duration": 234,
    "start_time": "2022-06-01T20:02:19.096Z"
   },
   {
    "duration": 215,
    "start_time": "2022-06-01T20:02:19.331Z"
   },
   {
    "duration": 211,
    "start_time": "2022-06-01T20:02:19.549Z"
   },
   {
    "duration": 187,
    "start_time": "2022-06-01T20:02:19.762Z"
   },
   {
    "duration": 3,
    "start_time": "2022-06-01T20:02:19.951Z"
   },
   {
    "duration": 7,
    "start_time": "2022-06-01T20:02:19.956Z"
   },
   {
    "duration": 4,
    "start_time": "2022-06-01T20:02:19.964Z"
   },
   {
    "duration": 337,
    "start_time": "2022-06-01T20:02:19.970Z"
   },
   {
    "duration": 0,
    "start_time": "2022-06-01T20:02:20.308Z"
   },
   {
    "duration": 0,
    "start_time": "2022-06-01T20:02:20.310Z"
   },
   {
    "duration": 0,
    "start_time": "2022-06-01T20:02:20.311Z"
   },
   {
    "duration": 0,
    "start_time": "2022-06-01T20:02:20.312Z"
   },
   {
    "duration": 0,
    "start_time": "2022-06-01T20:02:20.314Z"
   },
   {
    "duration": 0,
    "start_time": "2022-06-01T20:02:20.315Z"
   },
   {
    "duration": 0,
    "start_time": "2022-06-01T20:02:20.327Z"
   },
   {
    "duration": 0,
    "start_time": "2022-06-01T20:02:20.328Z"
   },
   {
    "duration": 0,
    "start_time": "2022-06-01T20:02:20.329Z"
   },
   {
    "duration": 0,
    "start_time": "2022-06-01T20:02:20.330Z"
   },
   {
    "duration": 0,
    "start_time": "2022-06-01T20:02:20.330Z"
   },
   {
    "duration": 0,
    "start_time": "2022-06-01T20:02:20.331Z"
   },
   {
    "duration": 1828,
    "start_time": "2022-06-01T20:07:58.174Z"
   },
   {
    "duration": 7,
    "start_time": "2022-06-01T20:08:05.082Z"
   },
   {
    "duration": 715,
    "start_time": "2022-06-01T20:12:20.521Z"
   },
   {
    "duration": 5,
    "start_time": "2022-06-01T20:12:23.674Z"
   },
   {
    "duration": 793,
    "start_time": "2022-06-01T20:12:57.179Z"
   },
   {
    "duration": 5,
    "start_time": "2022-06-01T20:13:00.526Z"
   },
   {
    "duration": 932,
    "start_time": "2022-06-01T20:13:07.121Z"
   },
   {
    "duration": 2292,
    "start_time": "2022-06-01T20:13:09.768Z"
   },
   {
    "duration": 5,
    "start_time": "2022-06-01T20:13:13.519Z"
   },
   {
    "duration": 511,
    "start_time": "2022-06-01T20:13:37.402Z"
   },
   {
    "duration": 5,
    "start_time": "2022-06-01T20:13:40.274Z"
   },
   {
    "duration": 3,
    "start_time": "2022-06-01T20:13:44.968Z"
   },
   {
    "duration": 6,
    "start_time": "2022-06-01T20:13:45.395Z"
   },
   {
    "duration": 2,
    "start_time": "2022-06-01T20:13:45.968Z"
   },
   {
    "duration": 433,
    "start_time": "2022-06-01T20:13:46.521Z"
   },
   {
    "duration": 5,
    "start_time": "2022-06-01T20:13:48.302Z"
   },
   {
    "duration": 881,
    "start_time": "2022-06-01T20:13:49.268Z"
   },
   {
    "duration": 6,
    "start_time": "2022-06-01T20:13:54.887Z"
   },
   {
    "duration": 2621,
    "start_time": "2022-06-01T20:14:45.336Z"
   },
   {
    "duration": 7,
    "start_time": "2022-06-01T20:14:53.504Z"
   },
   {
    "duration": 174,
    "start_time": "2022-06-01T20:16:28.313Z"
   },
   {
    "duration": 260,
    "start_time": "2022-06-01T20:16:31.225Z"
   },
   {
    "duration": 9,
    "start_time": "2022-06-01T20:16:36.139Z"
   },
   {
    "duration": 1394,
    "start_time": "2022-06-01T20:16:41.484Z"
   },
   {
    "duration": 5,
    "start_time": "2022-06-01T20:16:43.469Z"
   },
   {
    "duration": 3,
    "start_time": "2022-06-01T20:17:55.560Z"
   },
   {
    "duration": 5,
    "start_time": "2022-06-01T20:17:56.021Z"
   },
   {
    "duration": 3,
    "start_time": "2022-06-01T20:17:56.880Z"
   },
   {
    "duration": 441,
    "start_time": "2022-06-01T20:17:57.957Z"
   },
   {
    "duration": 6,
    "start_time": "2022-06-01T20:18:00.549Z"
   },
   {
    "duration": 3391,
    "start_time": "2022-06-01T20:18:02.802Z"
   },
   {
    "duration": 6,
    "start_time": "2022-06-01T20:18:07.556Z"
   },
   {
    "duration": 3293,
    "start_time": "2022-06-01T20:18:18.377Z"
   },
   {
    "duration": 11,
    "start_time": "2022-06-01T20:18:22.501Z"
   },
   {
    "duration": 1406,
    "start_time": "2022-06-01T20:18:27.877Z"
   },
   {
    "duration": 7,
    "start_time": "2022-06-01T20:18:30.030Z"
   },
   {
    "duration": 72,
    "start_time": "2022-06-01T20:18:44.604Z"
   },
   {
    "duration": 4273,
    "start_time": "2022-06-01T20:18:50.642Z"
   },
   {
    "duration": 2280,
    "start_time": "2022-06-01T20:18:54.918Z"
   },
   {
    "duration": 18,
    "start_time": "2022-06-01T20:18:57.200Z"
   },
   {
    "duration": 34,
    "start_time": "2022-06-01T20:18:57.221Z"
   },
   {
    "duration": 27,
    "start_time": "2022-06-01T20:18:57.257Z"
   },
   {
    "duration": 277,
    "start_time": "2022-06-01T20:18:57.286Z"
   },
   {
    "duration": 414,
    "start_time": "2022-06-01T20:18:57.565Z"
   },
   {
    "duration": 250,
    "start_time": "2022-06-01T20:18:57.981Z"
   },
   {
    "duration": 214,
    "start_time": "2022-06-01T20:18:58.233Z"
   },
   {
    "duration": 219,
    "start_time": "2022-06-01T20:18:58.450Z"
   },
   {
    "duration": 215,
    "start_time": "2022-06-01T20:18:58.671Z"
   },
   {
    "duration": 3,
    "start_time": "2022-06-01T20:18:58.887Z"
   },
   {
    "duration": 11,
    "start_time": "2022-06-01T20:18:58.892Z"
   },
   {
    "duration": 6,
    "start_time": "2022-06-01T20:18:58.904Z"
   },
   {
    "duration": 2192,
    "start_time": "2022-06-01T20:18:58.911Z"
   },
   {
    "duration": 6,
    "start_time": "2022-06-01T20:19:01.105Z"
   },
   {
    "duration": 3446,
    "start_time": "2022-06-01T20:19:01.113Z"
   },
   {
    "duration": 5,
    "start_time": "2022-06-01T20:19:04.561Z"
   },
   {
    "duration": 3053,
    "start_time": "2022-06-01T20:19:04.568Z"
   },
   {
    "duration": 11,
    "start_time": "2022-06-01T20:19:07.623Z"
   },
   {
    "duration": 1573,
    "start_time": "2022-06-01T20:19:07.635Z"
   },
   {
    "duration": 6,
    "start_time": "2022-06-01T20:19:09.210Z"
   },
   {
    "duration": 4758,
    "start_time": "2022-06-01T20:19:23.491Z"
   },
   {
    "duration": 2601,
    "start_time": "2022-06-01T20:19:28.252Z"
   },
   {
    "duration": 17,
    "start_time": "2022-06-01T20:19:30.854Z"
   },
   {
    "duration": 53,
    "start_time": "2022-06-01T20:19:30.873Z"
   },
   {
    "duration": 46,
    "start_time": "2022-06-01T20:19:30.928Z"
   },
   {
    "duration": 261,
    "start_time": "2022-06-01T20:19:30.976Z"
   },
   {
    "duration": 464,
    "start_time": "2022-06-01T20:19:31.239Z"
   },
   {
    "duration": 322,
    "start_time": "2022-06-01T20:19:31.705Z"
   },
   {
    "duration": 262,
    "start_time": "2022-06-01T20:19:32.029Z"
   },
   {
    "duration": 231,
    "start_time": "2022-06-01T20:19:32.294Z"
   },
   {
    "duration": 228,
    "start_time": "2022-06-01T20:19:32.528Z"
   },
   {
    "duration": 3,
    "start_time": "2022-06-01T20:19:32.758Z"
   },
   {
    "duration": 21,
    "start_time": "2022-06-01T20:19:32.763Z"
   },
   {
    "duration": 32,
    "start_time": "2022-06-01T20:19:32.788Z"
   },
   {
    "duration": 2278,
    "start_time": "2022-06-01T20:19:32.822Z"
   },
   {
    "duration": 6,
    "start_time": "2022-06-01T20:19:35.102Z"
   },
   {
    "duration": 3816,
    "start_time": "2022-06-01T20:19:35.110Z"
   },
   {
    "duration": 7,
    "start_time": "2022-06-01T20:19:38.928Z"
   },
   {
    "duration": 3168,
    "start_time": "2022-06-01T20:19:38.936Z"
   },
   {
    "duration": 7,
    "start_time": "2022-06-01T20:19:42.105Z"
   },
   {
    "duration": 1664,
    "start_time": "2022-06-01T20:19:42.114Z"
   },
   {
    "duration": 8,
    "start_time": "2022-06-01T20:19:43.779Z"
   },
   {
    "duration": 14,
    "start_time": "2022-06-01T20:19:43.789Z"
   },
   {
    "duration": 3,
    "start_time": "2022-06-01T20:19:43.805Z"
   },
   {
    "duration": 69,
    "start_time": "2022-06-01T20:19:43.810Z"
   },
   {
    "duration": 21397,
    "start_time": "2022-06-01T20:19:43.881Z"
   },
   {
    "duration": 15580,
    "start_time": "2022-06-01T20:20:05.280Z"
   },
   {
    "duration": 7815,
    "start_time": "2022-06-02T15:44:27.913Z"
   },
   {
    "duration": 2168,
    "start_time": "2022-06-02T15:44:35.730Z"
   },
   {
    "duration": 14,
    "start_time": "2022-06-02T15:44:37.900Z"
   },
   {
    "duration": 27,
    "start_time": "2022-06-02T15:44:37.916Z"
   },
   {
    "duration": 24,
    "start_time": "2022-06-02T15:44:37.945Z"
   },
   {
    "duration": 221,
    "start_time": "2022-06-02T15:44:37.971Z"
   },
   {
    "duration": 312,
    "start_time": "2022-06-02T15:44:38.194Z"
   },
   {
    "duration": 201,
    "start_time": "2022-06-02T15:44:38.508Z"
   },
   {
    "duration": 204,
    "start_time": "2022-06-02T15:44:38.711Z"
   },
   {
    "duration": 197,
    "start_time": "2022-06-02T15:44:38.918Z"
   },
   {
    "duration": 186,
    "start_time": "2022-06-02T15:44:39.116Z"
   },
   {
    "duration": 3,
    "start_time": "2022-06-02T15:44:39.303Z"
   },
   {
    "duration": 8,
    "start_time": "2022-06-02T15:44:39.308Z"
   },
   {
    "duration": 9,
    "start_time": "2022-06-02T15:44:39.317Z"
   },
   {
    "duration": 1795,
    "start_time": "2022-06-02T15:44:39.327Z"
   },
   {
    "duration": 6,
    "start_time": "2022-06-02T15:44:41.124Z"
   },
   {
    "duration": 2951,
    "start_time": "2022-06-02T15:44:41.131Z"
   },
   {
    "duration": 6,
    "start_time": "2022-06-02T15:44:44.084Z"
   },
   {
    "duration": 2505,
    "start_time": "2022-06-02T15:44:44.091Z"
   },
   {
    "duration": 7,
    "start_time": "2022-06-02T15:44:46.598Z"
   },
   {
    "duration": 1267,
    "start_time": "2022-06-02T15:44:46.607Z"
   },
   {
    "duration": 6,
    "start_time": "2022-06-02T15:44:47.875Z"
   },
   {
    "duration": 7,
    "start_time": "2022-06-02T15:44:47.882Z"
   },
   {
    "duration": 4,
    "start_time": "2022-06-02T15:44:47.891Z"
   },
   {
    "duration": 37,
    "start_time": "2022-06-02T15:44:47.896Z"
   },
   {
    "duration": 15616,
    "start_time": "2022-06-02T15:44:47.935Z"
   },
   {
    "duration": 11826,
    "start_time": "2022-06-02T15:45:03.553Z"
   },
   {
    "duration": 4,
    "start_time": "2022-06-02T16:32:08.049Z"
   },
   {
    "duration": 4,
    "start_time": "2022-06-02T16:32:32.246Z"
   },
   {
    "duration": 5,
    "start_time": "2022-06-02T16:34:37.134Z"
   },
   {
    "duration": 184284,
    "start_time": "2022-06-02T16:37:06.987Z"
   },
   {
    "duration": 4,
    "start_time": "2022-06-02T16:40:17.239Z"
   },
   {
    "duration": 743,
    "start_time": "2022-06-02T16:40:34.145Z"
   },
   {
    "duration": 16,
    "start_time": "2022-06-02T16:41:23.130Z"
   },
   {
    "duration": 241574,
    "start_time": "2022-06-02T16:42:19.208Z"
   },
   {
    "duration": 4,
    "start_time": "2022-06-02T16:46:57.543Z"
   },
   {
    "duration": 15,
    "start_time": "2022-06-02T16:49:11.630Z"
   },
   {
    "duration": 79801,
    "start_time": "2022-06-02T16:49:25.084Z"
   },
   {
    "duration": 239,
    "start_time": "2022-06-02T16:51:24.779Z"
   },
   {
    "duration": 4,
    "start_time": "2022-06-02T16:55:00.545Z"
   },
   {
    "duration": 17,
    "start_time": "2022-06-02T16:55:26.133Z"
   },
   {
    "duration": 88133,
    "start_time": "2022-06-02T16:55:38.428Z"
   },
   {
    "duration": 6,
    "start_time": "2022-06-02T16:57:37.734Z"
   },
   {
    "duration": 79,
    "start_time": "2022-06-02T16:57:55.958Z"
   },
   {
    "duration": 17,
    "start_time": "2022-06-02T17:02:39.628Z"
   },
   {
    "duration": 5,
    "start_time": "2022-06-02T17:03:02.184Z"
   },
   {
    "duration": 19,
    "start_time": "2022-06-02T17:03:06.169Z"
   },
   {
    "duration": 17,
    "start_time": "2022-06-02T17:03:50.361Z"
   },
   {
    "duration": 16,
    "start_time": "2022-06-02T17:04:01.706Z"
   },
   {
    "duration": 3491,
    "start_time": "2022-06-02T17:04:08.496Z"
   },
   {
    "duration": 5,
    "start_time": "2022-06-02T17:04:27.839Z"
   },
   {
    "duration": 3878,
    "start_time": "2022-06-02T17:04:50.682Z"
   },
   {
    "duration": 66,
    "start_time": "2022-06-02T17:06:49.909Z"
   },
   {
    "duration": 18080,
    "start_time": "2022-06-02T17:06:55.261Z"
   },
   {
    "duration": 2256,
    "start_time": "2022-06-02T17:07:13.343Z"
   },
   {
    "duration": 26,
    "start_time": "2022-06-02T17:07:15.602Z"
   },
   {
    "duration": 32,
    "start_time": "2022-06-02T17:07:15.630Z"
   },
   {
    "duration": 25,
    "start_time": "2022-06-02T17:07:15.664Z"
   },
   {
    "duration": 226,
    "start_time": "2022-06-02T17:07:15.691Z"
   },
   {
    "duration": 368,
    "start_time": "2022-06-02T17:07:15.918Z"
   },
   {
    "duration": 219,
    "start_time": "2022-06-02T17:07:16.288Z"
   },
   {
    "duration": 208,
    "start_time": "2022-06-02T17:07:16.509Z"
   },
   {
    "duration": 212,
    "start_time": "2022-06-02T17:07:16.720Z"
   },
   {
    "duration": 189,
    "start_time": "2022-06-02T17:07:16.934Z"
   },
   {
    "duration": 3,
    "start_time": "2022-06-02T17:07:17.124Z"
   },
   {
    "duration": 21,
    "start_time": "2022-06-02T17:07:17.129Z"
   },
   {
    "duration": 11,
    "start_time": "2022-06-02T17:07:17.160Z"
   },
   {
    "duration": 1834,
    "start_time": "2022-06-02T17:07:17.173Z"
   },
   {
    "duration": 5,
    "start_time": "2022-06-02T17:07:19.009Z"
   },
   {
    "duration": 2954,
    "start_time": "2022-06-02T17:07:19.015Z"
   },
   {
    "duration": 5,
    "start_time": "2022-06-02T17:07:21.970Z"
   },
   {
    "duration": 2689,
    "start_time": "2022-06-02T17:07:21.976Z"
   },
   {
    "duration": 7,
    "start_time": "2022-06-02T17:07:24.667Z"
   },
   {
    "duration": 1355,
    "start_time": "2022-06-02T17:07:24.676Z"
   },
   {
    "duration": 6,
    "start_time": "2022-06-02T17:07:26.032Z"
   },
   {
    "duration": 18,
    "start_time": "2022-06-02T17:07:26.039Z"
   },
   {
    "duration": 3,
    "start_time": "2022-06-02T17:07:26.058Z"
   },
   {
    "duration": 44,
    "start_time": "2022-06-02T17:07:26.062Z"
   },
   {
    "duration": 4,
    "start_time": "2022-06-02T17:07:26.108Z"
   },
   {
    "duration": 4984,
    "start_time": "2022-06-02T17:07:26.113Z"
   },
   {
    "duration": 6581,
    "start_time": "2022-06-02T17:07:31.101Z"
   },
   {
    "duration": 96969,
    "start_time": "2022-06-02T17:07:37.683Z"
   },
   {
    "duration": 4,
    "start_time": "2022-06-02T17:09:14.654Z"
   },
   {
    "duration": 42924,
    "start_time": "2022-06-02T17:09:14.659Z"
   },
   {
    "duration": 4,
    "start_time": "2022-06-02T17:09:57.658Z"
   },
   {
    "duration": 28152,
    "start_time": "2022-06-02T17:09:57.666Z"
   },
   {
    "duration": 4,
    "start_time": "2022-06-02T17:10:25.819Z"
   },
   {
    "duration": 29,
    "start_time": "2022-06-02T17:10:25.824Z"
   },
   {
    "duration": 955,
    "start_time": "2022-06-02T17:10:25.855Z"
   },
   {
    "duration": 122265,
    "start_time": "2022-06-02T17:11:06.930Z"
   },
   {
    "duration": 49,
    "start_time": "2022-06-02T17:14:26.276Z"
   },
   {
    "duration": 3857,
    "start_time": "2022-06-04T10:38:47.709Z"
   },
   {
    "duration": 3186,
    "start_time": "2022-06-04T10:38:51.568Z"
   },
   {
    "duration": 19,
    "start_time": "2022-06-04T10:38:54.758Z"
   },
   {
    "duration": 42,
    "start_time": "2022-06-04T10:38:54.780Z"
   },
   {
    "duration": 26,
    "start_time": "2022-06-04T10:38:54.825Z"
   },
   {
    "duration": 242,
    "start_time": "2022-06-04T10:38:54.853Z"
   },
   {
    "duration": 350,
    "start_time": "2022-06-04T10:38:55.096Z"
   },
   {
    "duration": 229,
    "start_time": "2022-06-04T10:38:55.447Z"
   },
   {
    "duration": 224,
    "start_time": "2022-06-04T10:38:55.678Z"
   },
   {
    "duration": 210,
    "start_time": "2022-06-04T10:38:55.904Z"
   },
   {
    "duration": 199,
    "start_time": "2022-06-04T10:38:56.116Z"
   },
   {
    "duration": 9,
    "start_time": "2022-06-04T10:38:56.316Z"
   },
   {
    "duration": 6,
    "start_time": "2022-06-04T10:38:56.327Z"
   },
   {
    "duration": 5,
    "start_time": "2022-06-04T10:39:14.088Z"
   },
   {
    "duration": 0,
    "start_time": "2022-06-04T11:25:08.989Z"
   },
   {
    "duration": 4344,
    "start_time": "2022-06-04T11:25:31.067Z"
   },
   {
    "duration": 969,
    "start_time": "2022-06-04T11:25:35.413Z"
   },
   {
    "duration": 16,
    "start_time": "2022-06-04T11:25:36.384Z"
   },
   {
    "duration": 53,
    "start_time": "2022-06-04T11:25:36.402Z"
   },
   {
    "duration": 25,
    "start_time": "2022-06-04T11:25:36.456Z"
   },
   {
    "duration": 281,
    "start_time": "2022-06-04T11:25:36.482Z"
   },
   {
    "duration": 449,
    "start_time": "2022-06-04T11:25:36.764Z"
   },
   {
    "duration": 252,
    "start_time": "2022-06-04T11:25:37.215Z"
   },
   {
    "duration": 256,
    "start_time": "2022-06-04T11:25:37.469Z"
   },
   {
    "duration": 252,
    "start_time": "2022-06-04T11:25:37.728Z"
   },
   {
    "duration": 246,
    "start_time": "2022-06-04T11:25:37.982Z"
   },
   {
    "duration": 4,
    "start_time": "2022-06-04T11:25:38.230Z"
   },
   {
    "duration": 17,
    "start_time": "2022-06-04T11:25:38.237Z"
   },
   {
    "duration": 4,
    "start_time": "2022-06-04T11:25:38.256Z"
   },
   {
    "duration": 2346,
    "start_time": "2022-06-04T11:25:38.261Z"
   },
   {
    "duration": 8,
    "start_time": "2022-06-04T11:25:40.609Z"
   },
   {
    "duration": 3929,
    "start_time": "2022-06-04T11:25:40.625Z"
   },
   {
    "duration": 8,
    "start_time": "2022-06-04T11:25:44.556Z"
   },
   {
    "duration": 3219,
    "start_time": "2022-06-04T11:25:44.566Z"
   },
   {
    "duration": 7,
    "start_time": "2022-06-04T11:25:47.787Z"
   },
   {
    "duration": 1612,
    "start_time": "2022-06-04T11:25:47.796Z"
   },
   {
    "duration": 5,
    "start_time": "2022-06-04T11:25:49.410Z"
   },
   {
    "duration": 15,
    "start_time": "2022-06-04T11:25:49.416Z"
   },
   {
    "duration": 13,
    "start_time": "2022-06-04T11:25:49.437Z"
   },
   {
    "duration": 36,
    "start_time": "2022-06-04T11:25:49.452Z"
   },
   {
    "duration": 4,
    "start_time": "2022-06-04T11:25:49.490Z"
   },
   {
    "duration": 6468,
    "start_time": "2022-06-04T11:25:49.495Z"
   },
   {
    "duration": 7826,
    "start_time": "2022-06-04T11:25:55.967Z"
   },
   {
    "duration": 128749,
    "start_time": "2022-06-04T11:26:03.794Z"
   },
   {
    "duration": 5,
    "start_time": "2022-06-04T11:28:12.548Z"
   },
   {
    "duration": 55507,
    "start_time": "2022-06-04T11:28:12.556Z"
   },
   {
    "duration": 60,
    "start_time": "2022-06-04T11:29:08.065Z"
   },
   {
    "duration": 38227,
    "start_time": "2022-06-04T11:29:08.127Z"
   },
   {
    "duration": 10,
    "start_time": "2022-06-04T11:29:46.357Z"
   },
   {
    "duration": 84,
    "start_time": "2022-06-04T11:29:46.369Z"
   }
  ],
  "kernelspec": {
   "display_name": "Python 3 (ipykernel)",
   "language": "python",
   "name": "python3"
  },
  "language_info": {
   "codemirror_mode": {
    "name": "ipython",
    "version": 3
   },
   "file_extension": ".py",
   "mimetype": "text/x-python",
   "name": "python",
   "nbconvert_exporter": "python",
   "pygments_lexer": "ipython3",
   "version": "3.9.7"
  },
  "toc": {
   "base_numbering": 1,
   "nav_menu": {},
   "number_sections": true,
   "sideBar": true,
   "skip_h1_title": true,
   "title_cell": "Содержание",
   "title_sidebar": "Contents",
   "toc_cell": true,
   "toc_position": {
    "height": "calc(100% - 180px)",
    "left": "10px",
    "top": "150px",
    "width": "302.391px"
   },
   "toc_section_display": true,
   "toc_window_display": false
  }
 },
 "nbformat": 4,
 "nbformat_minor": 2
}
